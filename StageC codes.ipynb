{
 "cells": [
  {
   "cell_type": "code",
   "execution_count": 37,
   "metadata": {},
   "outputs": [],
   "source": [
    "import pandas as pd \n",
    "import numpy as np\n",
    "UCI_data =pd.read_csv(\"Data_For_UCI.csv\")"
   ]
  },
  {
   "cell_type": "code",
   "execution_count": 41,
   "metadata": {},
   "outputs": [
    {
     "name": "stdout",
     "output_type": "stream",
     "text": [
      "Test set accuracy: 0.9265\n",
      "Test set accuracy: 0.9570\n"
     ]
    }
   ],
   "source": [
    "UCI_data_stable = UCI_data[UCI_data.stabf==\"stable\"]\n",
    "UCI_data_unstable = UCI_data[UCI_data.stabf==\"unstable\"]\n",
    "UCI_data= UCI_data_stable.append(UCI_data_unstable)\n",
    "\n",
    "from sklearn.utils import shuffle\n",
    "UCI_data_shuff= shuffle(UCI_data)\n",
    "UCI_data_shuff = UCI_data_shuff.reset_index(drop=True)\n",
    "\n",
    "from sklearn.model_selection import train_test_split, ShuffleSplit\n",
    "X =UCI_data_shuff.drop([\"stab\", \"stabf\"],axis=1)\n",
    "y=UCI_data_shuff[\"stabf\"]\n",
    "X_train,X_test,y_train,y_test =train_test_split(X,y,test_size=0.2, random_state=1)\n",
    "\n",
    "# Normalization training set using StandardScaler object\n",
    "from sklearn.preprocessing import StandardScaler\n",
    "scaler= StandardScaler()\n",
    "normalized_train_df = scaler.fit_transform(X_train)\n",
    "normalized_train_set = pd.DataFrame(normalized_train_df,columns=X_train.columns)\n",
    "\n",
    "# Normalization test set using StandardScaler object\n",
    "X_test = X_test.reset_index(drop=True)\n",
    "normalized_test_df = scaler.transform(X_test)\n",
    "normalized_test_set = pd.DataFrame(normalized_test_df,columns=X_test.columns)\n",
    "\n",
    "from sklearn.ensemble import RandomForestClassifier\n",
    "rnd_clf = RandomForestClassifier()\n",
    "rnd_clf.fit(normalized_train_set,y_train)\n",
    "y_pred_rf = rnd_clf.predict(normalized_test_set)\n",
    "\n",
    "from sklearn.metrics import recall_score, accuracy_score, precision_score, f1_score, confusion_matrix\n",
    "print(\"Test set accuracy: {:.4f}\".format(accuracy_score(y_pred_rf, y_test)))\n",
    "\n",
    "import xgboost\n",
    "xgb_reg = xgboost.XGBClassifier()\n",
    "xgb_reg.fit(normalized_train_set, y_train)\n",
    "y_pred_xg = xgb_reg.predict(normalized_test_set)\n",
    "\n",
    "from sklearn.metrics import recall_score, accuracy_score, precision_score, f1_score, confusion_matrix\n",
    "print(\"Test set accuracy: {:.4f}\".format(accuracy_score(y_pred_xg, y_test)))"
   ]
  },
  {
   "cell_type": "code",
   "execution_count": null,
   "metadata": {},
   "outputs": [],
   "source": []
  },
  {
   "cell_type": "code",
   "execution_count": null,
   "metadata": {},
   "outputs": [],
   "source": []
  }
 ],
 "metadata": {
  "kernelspec": {
   "display_name": "Python 3",
   "language": "python",
   "name": "python3"
  },
  "language_info": {
   "codemirror_mode": {
    "name": "ipython",
    "version": 3
   },
   "file_extension": ".py",
   "mimetype": "text/x-python",
   "name": "python",
   "nbconvert_exporter": "python",
   "pygments_lexer": "ipython3",
   "version": "3.6.5"
  }
 },
 "nbformat": 4,
 "nbformat_minor": 2
}
